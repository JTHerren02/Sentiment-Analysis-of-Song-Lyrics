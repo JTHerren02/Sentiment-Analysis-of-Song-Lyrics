{
 "cells": [
  {
   "cell_type": "code",
   "execution_count": null,
   "metadata": {
    "cell_id": "827d21bbb71b45e88425e6b744807913",
    "deepnote_cell_type": "code",
    "deepnote_to_be_reexecuted": false,
    "execution_millis": 2687,
    "execution_start": 1710735902484,
    "source_hash": null
   },
   "outputs": [],
   "source": [
    "!pip install spotipy==2.23.0"
   ]
  },
  {
   "cell_type": "code",
   "execution_count": null,
   "metadata": {
    "cell_id": "84f1ec3aa79c4cff996fb53f53e57a67",
    "deepnote_cell_type": "code",
    "deepnote_to_be_reexecuted": false,
    "execution_millis": 2274,
    "execution_start": 1710735905193,
    "source_hash": null
   },
   "outputs": [],
   "source": [
    "!pip install billboard.py"
   ]
  },
  {
   "cell_type": "code",
   "execution_count": null,
   "metadata": {
    "allow_embed": false,
    "cell_id": "aed6d0691b574d76bbcf4136871dcfdc",
    "deepnote_cell_type": "code",
    "deepnote_to_be_reexecuted": false,
    "execution_millis": 120,
    "execution_start": 1710735907471,
    "source_hash": null
   },
   "outputs": [],
   "source": [
    "# Genius.com lyric scraper\n",
    "\n",
    "import re\n",
    "import requests\n",
    "from bs4 import BeautifulSoup\n",
    "import time\n",
    "\n",
    "def parentheses_cleaner(lyrics):\n",
    "    '''Condenses parenthetical expressions printed on multiple new lines and appends it to the previous lyric \n",
    "    line without influencing any following lyrical content'''\n",
    "    pattern = re.compile(r'(\\s*\\(\\s*)(.*?)(\\s*\\)\\s*)(?=\\n|$)', re.DOTALL)\n",
    "\n",
    "    def replace_pattern(match):\n",
    "        removed_lines = ' '.join(match.group(2).split())\n",
    "        return ' (' + removed_lines + ')'\n",
    "\n",
    "    cleaned_lyrics = pattern.sub(replace_pattern, lyrics)\n",
    "    cleaned_lyrics = re.sub(r'(\\S)(\\s*\\(\\s*.*?\\s*\\))', r'\\1 \\2', cleaned_lyrics)\n",
    "    return cleaned_lyrics.strip()\n",
    "\n",
    "def scrape_song_lyrics(url):\n",
    "    '''Scrapes song lyrics from Genius given a url for a song'''\n",
    "    try:\n",
    "        response = requests.get(url)\n",
    "        if response.status_code == 200:\n",
    "            html_content = response.text\n",
    "            soup = BeautifulSoup(html_content, 'html.parser')\n",
    "            \n",
    "            parent_container = soup.find(\"div\", class_=\"lyrics\") or soup.find(\"div\", class_=\"lyricbox\")\n",
    "            if not parent_container:\n",
    "                lyric_elements = soup.select(\"div[class*='Lyrics__Container'], div[class*='lyrics']\")\n",
    "                lyrics = '\\n'.join([elem.get_text(separator=\"\\n\") for elem in lyric_elements]).strip()\n",
    "            else:\n",
    "                lyric_elements = parent_container.find_all([\"div\", \"p\"], recursive=True)\n",
    "            \n",
    "            lyrics = re.sub(r'\\[.*?\\]', '', lyrics, flags=re.DOTALL)\n",
    "            lyrics = parentheses_cleaner(lyrics)\n",
    "\n",
    "            return lyrics if lyrics else \"Lyrics not found for {url}.\"\n",
    "        else:\n",
    "            return f\"Failed to retrieve the webpage: HTTP {response.status_code} for {url}\"\n",
    "\n",
    "    except Exception as e:\n",
    "        return f\"An error occurred: {e}\"\n"
   ]
  },
  {
   "cell_type": "code",
   "execution_count": null,
   "metadata": {
    "cell_id": "db1af4c24f7e475f922c407b68d1f526",
    "deepnote_cell_type": "code",
    "deepnote_to_be_reexecuted": false,
    "execution_millis": 802,
    "execution_start": 1710735907557,
    "source_hash": null
   },
   "outputs": [],
   "source": [
    "# Spotify API Testing\n",
    "import spotipy\n",
    "from spotipy.oauth2 import SpotifyClientCredentials\n",
    "\n",
    "client_id = \"66fe334973004bbe98cbacd7cd52f0fd\"\n",
    "client_secret = \"54922cf3dfd0424db4b3dff226749175\"\n",
    "\n",
    "client_credentials_manager = SpotifyClientCredentials(client_id=client_id, client_secret=client_secret)\n",
    "sp = spotipy.Spotify(client_credentials_manager=client_credentials_manager)\n",
    "\n",
    "track_results = sp.search(q='artist:Ed Sheeran track:Shape of You', type='track')\n",
    "track_id = track_results['tracks']['items'][0]['id']\n",
    "print(f\"Track ID: {track_id}\")\n",
    "\n",
    "audio_features = sp.audio_features(tracks=[track_id])[0]\n",
    "\n",
    "print(f\"Danceability: {audio_features['danceability']}\")\n",
    "print(f\"Energy: {audio_features['energy']}\")\n",
    "print(f\"Tempo: {audio_features['tempo']} BPM\")"
   ]
  },
  {
   "cell_type": "code",
   "execution_count": null,
   "metadata": {
    "allow_embed": false,
    "cell_id": "4005048606d34c9ea98992a6752a93a0",
    "deepnote_cell_type": "code",
    "deepnote_to_be_reexecuted": false,
    "execution_millis": 3457,
    "execution_start": 1710735908390,
    "source_hash": null
   },
   "outputs": [],
   "source": [
    "# Sentiment Analysis Testing\n",
    "\n",
    "!pip install textblob\n",
    "!python -m textblob.download_corpora"
   ]
  },
  {
   "cell_type": "code",
   "execution_count": null,
   "metadata": {
    "allow_embed": false,
    "cell_id": "191171b8e558483b8fc0fa533bee0f1a",
    "deepnote_cell_type": "code",
    "deepnote_to_be_reexecuted": false,
    "execution_millis": 383,
    "execution_start": 1710735911851,
    "source_hash": null
   },
   "outputs": [],
   "source": [
    "# Sentiment Analysis Testing\n",
    "\n",
    "from textblob import TextBlob\n",
    "\n",
    "blob = TextBlob(lyrics)\n",
    "sentiment = blob.sentiment\n",
    "\n",
    "valence = audio_features['valence']\n",
    "energy = audio_features['energy']\n",
    "\n",
    "print(f\"Sentiment Analysis of 'Shape of You':\\nPolarity: {sentiment.polarity}\\nSubjectivity: {sentiment.subjectivity}\")\n",
    "\n",
    "# Deciding sentiment based on polarity\n",
    "if sentiment.polarity > 0:\n",
    "    print(\"Overall Sentiment: Positive\")\n",
    "elif sentiment.polarity < 0:\n",
    "    print(\"Overall Sentiment: Negative\")\n",
    "else:\n",
    "    print(\"Overall Sentiment: Neutral\")\n",
    "\n",
    "# Investigate correlations (simplified example)\n",
    "polarity = blob.sentiment.polarity\n",
    "if valence > 0.5 and polarity > 0:\n",
    "    print(\"Both the music and lyrics convey a positive mood.\")\n",
    "elif valence < 0.5 and polarity < 0:\n",
    "    print(\"Both the music and lyrics convey a negative mood.\")\n",
    "else:\n",
    "    print(\"The mood conveyed by the music and lyrics might differ.\")\n"
   ]
  },
  {
   "cell_type": "code",
   "execution_count": null,
   "metadata": {
    "cell_id": "7f52a8a5135644898c015f6a34601f69",
    "deepnote_cell_type": "code",
    "deepnote_to_be_reexecuted": false,
    "execution_millis": 915,
    "execution_start": 1710735911855,
    "source_hash": null
   },
   "outputs": [],
   "source": [
    "# Getting Recent Billboard Data\n",
    "import billboard\n",
    "chart = billboard.ChartData('hot-100', date='2024-03-16')\n",
    "print(chart)"
   ]
  },
  {
   "cell_type": "code",
   "execution_count": null,
   "metadata": {
    "cell_id": "20ccec1dc71b4ff9a939548de10f31fa",
    "deepnote_cell_type": "code",
    "deepnote_to_be_reexecuted": false,
    "execution_millis": 403,
    "execution_start": 1710735912774,
    "source_hash": null
   },
   "outputs": [],
   "source": [
    "# Formatting Song Data Function\n",
    "import re\n",
    "\n",
    "def get_song_info(song):\n",
    "    '''Takes a given song and formats it into two parts the song and the artist(s)'''\n",
    "    text = re.search(r\"'(.+)' by (.+)\", song)\n",
    "    song_name = text.group(1)\n",
    "    song_name = re.sub(r\"'\", '', song_name)\n",
    "    artist_names = text.group(2)\n",
    "    artist_names = re.sub(r'\\s+(Featuring|With)\\s+.*$', '', artist_names)\n",
    "    artists = re.split(r'[:,&]', artist_names)\n",
    "    artists = [name.strip() for name in artists]\n",
    "    return [song_name, artists]"
   ]
  },
  {
   "cell_type": "code",
   "execution_count": null,
   "metadata": {
    "cell_id": "53e2f0f70b6e4fab87c9e5f63427d5b5",
    "deepnote_cell_type": "code",
    "deepnote_to_be_reexecuted": false,
    "execution_millis": 394,
    "execution_start": 1710735912784,
    "source_hash": null
   },
   "outputs": [],
   "source": [
    "# Splitting the Song Data\n",
    "song_names = []\n",
    "artists_names = []\n",
    "\n",
    "for song in chart:\n",
    "    data = get_song_info(str(song))\n",
    "    song_names.append(data[0])\n",
    "    artists_names.append(data[1])\n",
    "print(artists_names)"
   ]
  },
  {
   "cell_type": "code",
   "execution_count": null,
   "metadata": {
    "cell_id": "8364a59cfdc446919f1494510efe00e8",
    "deepnote_cell_type": "code",
    "deepnote_to_be_reexecuted": false,
    "execution_millis": 383,
    "execution_start": 1710735912795,
    "source_hash": null
   },
   "outputs": [],
   "source": [
    "# Main Execution - Tracklist (Songs + Artists)\n",
    "\n",
    "artist_tracks = {}\n",
    "for index in range(len(song_names)):\n",
    "    if artists_names[index][0] in artist_tracks:\n",
    "        artist_tracks[artists_names[index][0]].append(song_names[index])\n",
    "    else:\n",
    "        artist_tracks[artists_names[index][0]] = []\n",
    "        artist_tracks[artists_names[index][0]].append(song_names[index])\n"
   ]
  },
  {
   "cell_type": "code",
   "execution_count": null,
   "metadata": {
    "cell_id": "5bc25f45203a44aeb40e665550e90956",
    "deepnote_cell_type": "code",
    "deepnote_to_be_reexecuted": false,
    "execution_millis": 371,
    "execution_start": 1710735912807,
    "source_hash": null
   },
   "outputs": [],
   "source": [
    "print(artist_tracks)"
   ]
  },
  {
   "cell_type": "code",
   "execution_count": null,
   "metadata": {
    "cell_id": "24ad5ca51ca4451c82cadcf8e7303f39",
    "deepnote_cell_type": "code",
    "deepnote_to_be_reexecuted": false,
    "execution_millis": 7637,
    "execution_start": 1710735912819,
    "source_hash": null
   },
   "outputs": [],
   "source": [
    "# Main Execution - Audio Features\n",
    "import spotipy\n",
    "from spotipy.oauth2 import SpotifyClientCredentials\n",
    "\n",
    "client_id = \"66fe334973004bbe98cbacd7cd52f0fd\"\n",
    "client_secret = \"54922cf3dfd0424db4b3dff226749175\"\n",
    "\n",
    "client_credentials_manager = SpotifyClientCredentials(client_id=client_id, client_secret=client_secret)\n",
    "sp = spotipy.Spotify(client_credentials_manager=client_credentials_manager)\n",
    "\n",
    "song_audio_features = []\n",
    "track_names = []\n",
    "\n",
    "for artist, tracks in artist_tracks.items():\n",
    "    for track in tracks:\n",
    "        query = f'artist:{artist} track:{track}'\n",
    "        result = sp.search(q=query, type='track', limit=1)\n",
    "\n",
    "        if result['tracks']['items']:\n",
    "            track_info = result['tracks']['items'][0]\n",
    "            track_id = track_info['id']\n",
    "            track_name = track\n",
    "            track_artist = artist\n",
    "            '''track_ids.append(track_id)'''\n",
    "\n",
    "            audio_features = sp.audio_features(track_id)[0]\n",
    "\n",
    "            song_audio_features.append({\n",
    "                'artist': track_artist,\n",
    "                'title': track_name,\n",
    "                'track_id': track_id,\n",
    "                'audio_features': audio_features\n",
    "            })\n",
    "        else:\n",
    "            print(f\"No results found for {track} by {artist}\")\n",
    "\n",
    "\n",
    "if song_audio_features:\n",
    "    first_song = song_audio_features[0]\n",
    "    print(f\"Artist: {first_song['artist']}\")\n",
    "    print(f\"Title: {first_song['title']}\")\n",
    "    print(f\"Track ID: {first_song['track_id']}\")\n",
    "    print(\"Audio Features:\")\n",
    "    for feature, value in first_song['audio_features'].items():\n",
    "        print(f\"{feature}: {value}\")\n",
    "else:\n",
    "    print(\"No song was processed.\")"
   ]
  },
  {
   "cell_type": "code",
   "execution_count": null,
   "metadata": {
    "cell_id": "e70154e1c88b426fb8442226aa4546a0",
    "deepnote_cell_type": "code",
    "deepnote_to_be_reexecuted": true,
    "execution_millis": 136,
    "execution_start": 1710561694220,
    "source_hash": null
   },
   "outputs": [],
   "source": [
    "# Formatting Song Data into a Usable URL\n",
    "\n",
    "def create_url(song_data):\n",
    "    '''Takes song data in the form of song name | artist(s) and converts it into a link\n",
    "        for the song lyric website Genius'''\n",
    "    base_url = 'https://genius.com/'\n",
    "    url = []\n",
    "    song = re.sub(r'[^\\w\\s-]', ' ', song_data[0]).strip()\n",
    "    song = re.sub(r'\\s+', '-', song)\n",
    "    all_names = ''\n",
    "    if len(song_data[1]) == 1:\n",
    "        all_names = song_data[1][0].replace(' ', '-')\n",
    "    else:\n",
    "        for index in range(len(song_data[1])):\n",
    "            if index == max(range(len(song_data[1]))):\n",
    "                all_names += '-and-' + song_data[1][index].replace(' ', '-')\n",
    "            elif index > 0:\n",
    "                all_names += '-' + song_data[1][index].replace(' ', '-')\n",
    "            else:\n",
    "                all_names = song_data[1][0].replace(' ', '-')\n",
    "    url.append(base_url + all_names + '-' + song + '-lyrics')\n",
    "    return url"
   ]
  },
  {
   "cell_type": "code",
   "execution_count": null,
   "metadata": {
    "cell_id": "f7b3f200f63646ed9cabdbc49a091ef2",
    "deepnote_cell_type": "code",
    "deepnote_to_be_reexecuted": true,
    "execution_millis": 20044,
    "execution_start": 1710580830080,
    "source_hash": null
   },
   "outputs": [],
   "source": [
    "# Main Execution - Lyrics\n",
    "song_lyrics = {}\n",
    "\n",
    "for index in range(len(song_names)):\n",
    "    time.sleep(20)\n",
    "    url_artists = artists_names[index]\n",
    "    filterered_artists = []\n",
    "    for artist in url_artists:\n",
    "        if bool(re.match(r'^[\\W_]+$', artist)) == False:\n",
    "            artist = artist.replace('$', 'S')\n",
    "            filterered_artists.append(artist)\n",
    "    song = song_names[index]\n",
    "    url_song = song.replace('@', 'at')\n",
    "    song_data = [url_song, filterered_artists]\n",
    "    url = create_url(song_data)[0]\n",
    "    lyrics = scrape_song_lyrics(url)\n",
    "    song_lyrics[song] = lyrics\n",
    "    \n",
    "\n",
    "\n"
   ]
  },
  {
   "cell_type": "code",
   "execution_count": null,
   "metadata": {
    "cell_id": "3798ced7b1c349a3b184e2b5486b3bf3",
    "deepnote_cell_type": "code",
    "deepnote_to_be_reexecuted": true,
    "execution_millis": 57,
    "execution_start": 1710580825276,
    "source_hash": null
   },
   "outputs": [],
   "source": [
    "# Sentiment Analysis and Data Formatting\n",
    "\n",
    "from textblob import TextBlob\n",
    "sentiment_data = {}\n",
    "\n",
    "for song, lyrics in song_lyrics.items():\n",
    "    \n",
    "    blob = TextBlob(lyrics)\n",
    "    sentiment = blob.sentiment\n",
    "    \n",
    "    # getting the dict that contains the audio features of a given song\n",
    "    index = 0\n",
    "    for dictionary in song_audio_features:\n",
    "        if dictionary['title'].lower() == song.lower():\n",
    "            break\n",
    "        else:\n",
    "            index += 1\n",
    "    \n",
    "    # Defining variables\n",
    "    artist = song_audio_features[index]['artist']\n",
    "    valence = song_audio_features[index]['audio_features']['valence']\n",
    "    energy = song_audio_features[index]['audio_features']['energy']\n",
    "    danceability = song_audio_features[index]['audio_features']['danceability']\n",
    "    tempo = song_audio_features[index]['audio_features']['tempo']\n",
    "    loudness = song_audio_features[index]['audio_features']['loudness']\n",
    "    polarity = sentiment.polarity\n",
    "    subjectivity = sentiment.subjectivity\n",
    "\n",
    "    # Overall Sentiment Analysis\n",
    "    if sentiment.polarity > 0:\n",
    "        overall_sentiment = 'Positive'\n",
    "    elif sentiment.polarity < 0:\n",
    "        overall_sentiment = 'Negative'\n",
    "    else:\n",
    "        overall_sentiment = 'Positive'\n",
    "    \n",
    "    # Storing Data\n",
    "    sentiment_data[song] = {'Artist': artist,\n",
    "                            'Overall Sentiment': overall_sentiment, \n",
    "                            'Polarity': polarity,\n",
    "                            'Subjectivity': subjectivity,\n",
    "                            'Valence': valence, \n",
    "                            'Energy': energy,\n",
    "                            'Loudness': loudness,\n",
    "                            'Tempo': tempo,\n",
    "                            'Danceability': danceability}\n",
    "\n",
    "\n",
    "\n",
    "\n"
   ]
  },
  {
   "cell_type": "code",
   "execution_count": null,
   "metadata": {
    "cell_id": "2d3d824508dd4c29a4a8bc99462dd5e0",
    "deepnote_cell_type": "code",
    "deepnote_to_be_reexecuted": false,
    "execution_millis": 98,
    "execution_start": 1710817003189,
    "source_hash": null
   },
   "outputs": [],
   "source": [
    "# Storing Relevant Data in a Dataframe\n",
    "import pandas as pd\n",
    "'''\n",
    "rows = [{**{'Song': song}, **data} for song, data in sentiment_data.items()]\n",
    "df = pd.DataFrame(rows)\n",
    "df.to_csv('data.csv', index=False)\n",
    "'''"
   ]
  },
  {
   "cell_type": "code",
   "execution_count": null,
   "metadata": {
    "cell_id": "b8a7aafa95ab4ec085c58026f91c5b13",
    "deepnote_cell_type": "code",
    "deepnote_table_loading": false,
    "deepnote_table_state": {
     "filters": [],
     "pageIndex": 0,
     "pageSize": 100,
     "sortBy": []
    },
    "deepnote_to_be_reexecuted": false,
    "execution_millis": 263,
    "execution_start": 1710817048172,
    "source_hash": null
   },
   "outputs": [],
   "source": [
    "# Loading Data Frame and Displaying it\n",
    "df = pd.read_csv(\"data.csv\")\n",
    "df.head(100)"
   ]
  },
  {
   "cell_type": "code",
   "execution_count": null,
   "metadata": {
    "cell_id": "b0b769b9b77243fb871a4d525d381224",
    "deepnote_cell_type": "code",
    "deepnote_to_be_reexecuted": true,
    "execution_millis": 222,
    "execution_start": 1710720617189,
    "source_hash": null
   },
   "outputs": [],
   "source": [
    "# Creating subsets of the DataFrame to be neatly compiled into LaTeX\n",
    "\n",
    "sentiment_subset = df.iloc[:10, :5]\n",
    "audio_subset = df.iloc[:10, [0] + list(range(-5, 0))]\n",
    "sentiment_latex = sentiment_subset.to_latex(index=True, caption=\"Subset of Song Dataframe\", label=\"tab:df_subset\")\n",
    "audio_latex = audio_subset.to_latex(index=True, caption=\"Audio Features\", label=\"tab:df_subset\")\n",
    "print(sentiment_latex)\n",
    "print(audio_latex)"
   ]
  },
  {
   "cell_type": "code",
   "execution_count": null,
   "metadata": {
    "cell_id": "440e3998c0334cf58b53c2edfb4d9720",
    "deepnote_cell_type": "code",
    "deepnote_to_be_reexecuted": false,
    "execution_millis": 1795,
    "execution_start": 1710817092399,
    "source_hash": null
   },
   "outputs": [],
   "source": [
    "# Heat Plot\n",
    "import matplotlib.pyplot as plt\n",
    "import seaborn as sns\n",
    "\n",
    "test = df[['Polarity','Valence', 'Danceability', 'Tempo', 'Loudness', 'Energy', 'Subjectivity']]\n",
    "filtered = test[test['Polarity'] != 0]\n",
    "corr_matrix = filtered.corr()\n",
    "sns.heatmap(corr_matrix, cmap='coolwarm', annot=True, fmt=\".2f\")\n",
    "plt.title('Correlation Heatmap')\n",
    "plt.show()"
   ]
  },
  {
   "cell_type": "code",
   "execution_count": null,
   "metadata": {
    "cell_id": "df4e43ed5d5d409f8187747eadb51dcd",
    "deepnote_cell_type": "code",
    "deepnote_to_be_reexecuted": false,
    "execution_millis": 177,
    "execution_start": 1710817144607,
    "source_hash": null
   },
   "outputs": [],
   "source": [
    "# Scatterplot Sample 1\n",
    "plt.scatter(df['Polarity'], df['Danceability'])\n",
    "plt.xlabel('Polarity')\n",
    "plt.ylabel('Danceability')\n",
    "plt.title('Polarity vs Danceability')"
   ]
  },
  {
   "cell_type": "code",
   "execution_count": null,
   "metadata": {
    "allow_embed": false,
    "cell_id": "8b328e5c32de4abba96654b451e04ccd",
    "deepnote_cell_type": "code",
    "deepnote_to_be_reexecuted": false,
    "execution_millis": 12,
    "execution_start": 1710817164208,
    "source_hash": null
   },
   "outputs": [],
   "source": [
    "# Scatterplot Sample 2\n",
    "plt.scatter(df['Polarity'], df['Energy'])\n",
    "plt.xlabel('Polarity')\n",
    "plt.ylabel('Energy')\n",
    "plt.title('Polarity vs Energy')"
   ]
  },
  {
   "cell_type": "code",
   "execution_count": null,
   "metadata": {
    "allow_embed": false,
    "cell_id": "595a2126837f48dbb4334520b4231f35",
    "deepnote_cell_type": "code",
    "deepnote_to_be_reexecuted": false,
    "execution_millis": 95,
    "execution_start": 1710817256960,
    "source_hash": null
   },
   "outputs": [],
   "source": [
    "# Scatterplot Sample 3\n",
    "plt.scatter(df['Loudness'], df['Energy'])\n",
    "plt.xlabel('Loudness')\n",
    "plt.ylabel('Energy')\n",
    "plt.title('Loudness vs Energy')"
   ]
  },
  {
   "cell_type": "code",
   "execution_count": null,
   "metadata": {
    "cell_id": "1bc8568f0a4740469dda8dcb827daca8",
    "deepnote_cell_type": "code",
    "deepnote_to_be_reexecuted": false,
    "execution_millis": 6219,
    "execution_start": 1710746960670,
    "source_hash": null
   },
   "outputs": [],
   "source": [
    "!pip install plotly\n",
    "!pip install plotly chart-studio"
   ]
  },
  {
   "cell_type": "code",
   "execution_count": null,
   "metadata": {
    "cell_id": "d6ccb72267734114b5180594eb160fab",
    "deepnote_cell_type": "code",
    "deepnote_to_be_reexecuted": false,
    "execution_millis": 300,
    "execution_start": 1710735954199,
    "source_hash": null
   },
   "outputs": [],
   "source": [
    "# Interactive Plot (Hoverable Points Only)\n",
    "\n",
    "import plotly.express as px\n",
    "\n",
    "fig = px.scatter(df, x='Valence', y='Polarity',\n",
    "                 hover_data=['Song', 'Artist'], \n",
    "                 title='Polarity vs. Valence')\n",
    "\n",
    "fig.show()"
   ]
  },
  {
   "cell_type": "code",
   "execution_count": null,
   "metadata": {
    "allow_embed": false,
    "cell_id": "cf8606d966f04b378cc000e55e880fe2",
    "deepnote_cell_type": "code",
    "deepnote_to_be_reexecuted": false,
    "execution_millis": 3948,
    "execution_start": 1710745064106,
    "source_hash": null
   },
   "outputs": [],
   "source": [
    "!pip install ipywidgets"
   ]
  },
  {
   "cell_type": "code",
   "execution_count": null,
   "metadata": {
    "allow_embed": false,
    "cell_id": "32f90b083aaf4e6f94bbbc9fd7469f74",
    "deepnote_cell_type": "code",
    "deepnote_to_be_reexecuted": false,
    "execution_millis": 274,
    "execution_start": 1710748145624,
    "source_hash": null
   },
   "outputs": [],
   "source": [
    "# Interactive Plot that others can access with a link. An HTML of the graph can be saved.\n",
    "# This module displays the interactive plot in Jupyter. For the external web app, see next code block.\n",
    "\n",
    "import pandas as pd\n",
    "import chart_studio\n",
    "import chart_studio.plotly as py\n",
    "import plotly.graph_objs as go\n",
    "from ipywidgets import interact, Dropdown\n",
    "import chart_studio.tools as tls\n",
    "import plotly.offline as py_offline\n",
    "\n",
    "chart_studio.tools.set_credentials_file(username='jeffnguyen177', api_key='lFuxBnVNDJeGMgoxnZ6Z')\n",
    "\n",
    "def update_plot(x_axis, y_axis, upload=False, save_html=False):\n",
    "    '''Generates a plot of the data with interactive features to change axes variables, and the option to save the\n",
    "    plot as an html file'''\n",
    "    fig = go.Figure(data=go.Scatter(x=df[x_axis],\n",
    "                                    y=df[y_axis],\n",
    "                                    mode='markers',\n",
    "                                    text=df['Song'] + \" by \" + df['Artist'],\n",
    "                                    marker=dict(color='LightSkyBlue', size=10, opacity=0.5)))\n",
    "    \n",
    "    fig.update_layout(title=f'{x_axis} vs. {y_axis}',\n",
    "                      xaxis_title=x_axis,\n",
    "                      yaxis_title=y_axis,\n",
    "                      hovermode='closest')\n",
    "    \n",
    "    if upload:\n",
    "        upload_plot(fig, filename=f'{x_axis}_vs_{y_axis}')\n",
    "    elif save_html:\n",
    "        file_name = f\"{x_axis}_vs_{y_axis}.html\"\n",
    "        py_offline.plot(fig, filename=file_name, auto_open=True, include_plotlyjs=True)\n",
    "        print(f\"Plot saved as {file_name}\")\n",
    "    else:\n",
    "        fig.show()\n",
    "        \n",
    "def upload_plot(fig, filename):\n",
    "    '''Uploads the plot to Chart-Studio'''\n",
    "    # Upload the plot with public access\n",
    "    plot_url = py.plot(fig, filename=filename, auto_open=True, sharing='public')\n",
    "    print(f\"Plot is available at: {plot_url}\")\n",
    "\n",
    "x_axis_dropdown = Dropdown(options=list(df.columns), value='Polarity', description='X-axis')\n",
    "y_axis_dropdown = Dropdown(options=list(df.columns), value='Subjectivity', description='Y-axis')\n",
    "upload_checkbox = Dropdown(options=[False, True], description='Upload?')\n",
    "\n",
    "interact(update_plot, x_axis=x_axis_dropdown, y_axis=y_axis_dropdown, upload=upload_checkbox)"
   ]
  },
  {
   "cell_type": "code",
   "execution_count": null,
   "metadata": {
    "cell_id": "f9d5a125533b47ae8e1ad18965e24e00",
    "deepnote_cell_type": "code"
   },
   "outputs": [],
   "source": [
    "# Modified version of interactive scatterplot so that it can be hosted via web-app (not meant to run in Jupyter, this is just the source code)\n",
    "\n",
    "# Import necessary libraries\n",
    "import pandas as pd\n",
    "import streamlit as st\n",
    "import plotly.graph_objs as go\n",
    "\n",
    "df = pd.read_csv(\"data.csv\")\n",
    "\n",
    "def update_plot(x_axis, y_axis):\n",
    "    '''Generates a plot of the data with interactive features to change axes variables, and the option to save the\n",
    "    plot as an html file, this time using Streamlit widgets instead of ipywidgets'''\n",
    "    fig = go.Figure(data=go.Scatter(x=df[x_axis],\n",
    "                                    y=df[y_axis],\n",
    "                                    mode='markers',\n",
    "                                    text=df['Song'] + \" by \" + df['Artist'],\n",
    "                                    marker=dict(color='LightSkyBlue', size=10, opacity=0.5)))\n",
    "    \n",
    "    fig.update_layout(title=f'{x_axis} vs. {y_axis}',\n",
    "                      xaxis_title=x_axis,\n",
    "                      yaxis_title=y_axis,\n",
    "                      hovermode='closest')\n",
    "    \n",
    "    st.plotly_chart(fig)\n",
    "\n",
    "# Create Streamlit widgets for selecting the X and Y axis data\n",
    "x_axis = st.selectbox('Select X-axis:', options=df.columns, index=0)\n",
    "y_axis = st.selectbox('Select Y-axis:', options=df.columns, index=1)\n",
    "\n",
    "# Add a button to update the plot\n",
    "st.button('Update Plot', on_click=update_plot, args=(x_axis, y_axis))"
   ]
  },
  {
   "cell_type": "markdown",
   "metadata": {
    "created_in_deepnote_cell": true,
    "deepnote_cell_type": "markdown"
   },
   "source": [
    "<a style='text-decoration:none;line-height:16px;display:flex;color:#5B5B62;padding:10px;justify-content:end;' href='https://deepnote.com?utm_source=created-in-deepnote-cell&projectId=9fdf84f8-50cd-4376-85d1-2d7888957269' target=\"_blank\">\n",
    "<img alt='Created in deepnote.com' style='display:inline;max-height:16px;margin:0px;margin-right:7.5px;' src='data:image/svg+xml;base64,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' > </img>\n",
    "Created in <span style='font-weight:600;margin-left:4px;'>Deepnote</span></a>"
   ]
  }
 ],
 "metadata": {
  "deepnote_execution_queue": [],
  "deepnote_notebook_id": "643349a7561b478280f69d4ace2b77dc",
  "deepnote_persisted_session": {
   "createdAt": "2024-03-19T04:15:24.912Z"
  },
  "kernelspec": {
   "display_name": "Python 3 (ipykernel)",
   "language": "python",
   "name": "python3"
  },
  "language_info": {
   "codemirror_mode": {
    "name": "ipython",
    "version": 3
   },
   "file_extension": ".py",
   "mimetype": "text/x-python",
   "name": "python",
   "nbconvert_exporter": "python",
   "pygments_lexer": "ipython3",
   "version": "3.11.5"
  }
 },
 "nbformat": 4,
 "nbformat_minor": 1
}
